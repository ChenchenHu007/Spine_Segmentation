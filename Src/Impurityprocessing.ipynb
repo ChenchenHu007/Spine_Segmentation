{
 "cells": [
  {
   "cell_type": "code",
   "execution_count": 58,
   "outputs": [
    {
     "data": {
      "text/plain": "['Case55',\n 'Case102',\n 'Case66',\n 'Case208',\n 'Case174',\n 'Case38',\n 'Case138',\n 'Case162',\n 'Case61',\n 'Case80',\n 'Case161',\n 'Case83',\n 'Case210',\n 'Case116',\n 'Case134',\n 'Case143',\n 'Case84',\n 'Case142',\n 'Case133',\n 'Case76',\n 'Case10',\n 'Case130',\n 'Case18',\n 'Case121',\n 'Case148',\n 'Case37',\n 'Case159',\n 'Case144',\n 'Case202',\n 'Case32',\n 'Case110',\n 'Case33',\n 'Case176',\n 'Case22',\n 'Case77',\n 'Case136',\n 'Case31',\n 'Case145',\n 'Case129',\n 'Case92',\n 'Case90',\n 'Case64',\n 'Case167',\n 'Case30',\n 'Case150',\n 'Case168',\n 'Case98',\n 'Case175',\n 'Case165',\n 'Case71',\n 'Case184',\n 'Case113',\n 'Case178',\n 'Case190',\n 'Case118',\n 'Case115',\n 'Case73',\n 'Case187',\n 'Case132',\n 'Case85',\n 'Case16',\n 'Case7',\n 'Case177',\n 'Case79',\n 'Case45',\n 'Case87',\n 'Case34',\n 'Case75',\n 'Case198',\n 'Case105',\n 'Case78',\n 'Case182',\n 'Case23',\n 'Case213',\n 'Case12',\n 'Case158',\n 'Case35',\n 'Case181',\n 'Case179',\n 'Case171',\n 'Case93',\n 'Case194',\n 'Case24',\n 'Case20',\n 'Case6',\n 'Case54',\n 'Case88',\n 'Case108',\n 'Case215',\n 'Case27',\n 'Case193',\n 'Case5',\n 'Case106',\n 'Case104',\n 'Case141',\n 'Case109',\n 'Case212',\n 'Case169',\n 'Case197',\n 'Case122',\n 'Case128',\n 'Case156',\n 'Case191',\n 'Case185',\n 'Case137',\n 'Case127',\n 'Case203',\n 'Case196',\n 'Case13',\n 'Case46',\n 'Case69',\n 'Case43',\n 'Case188',\n 'Case59',\n 'Case173',\n 'Case111',\n 'Case26',\n 'Case17',\n 'Case57',\n 'Case36',\n 'Case123',\n 'Case2',\n 'Case120',\n 'Case199',\n 'Case180',\n 'Case62',\n 'Case172',\n 'Case166',\n 'Case103',\n 'Case68',\n 'Case53',\n 'Case81',\n 'Case72',\n 'Case112',\n 'Case149',\n 'Case100',\n 'Case160',\n 'Case140',\n 'Case101',\n 'Case19',\n 'Case170',\n 'Case146',\n 'Case29',\n 'Case41',\n 'Case155',\n 'Case40',\n 'Case25',\n 'Case214',\n 'Case48',\n 'Case107',\n 'Case163',\n 'Case89',\n 'Case56',\n 'Case58',\n 'Case52',\n 'Case205',\n 'Case153',\n 'Case91',\n 'Case67',\n 'Case97',\n 'Case9',\n 'Case186',\n 'Case152',\n 'Case39',\n 'Case204',\n 'Case8',\n 'Case139',\n 'Case14',\n 'Case200',\n 'Case164',\n 'Case154',\n 'Case82']"
     },
     "execution_count": 58,
     "metadata": {},
     "output_type": "execute_result"
    }
   ],
   "source": [
    "import os\n",
    "import sys\n",
    "import matplotlib.pyplot as plt\n",
    "import random\n",
    "import argparse\n",
    "\n",
    "import numpy as np\n",
    "import pandas as pd\n",
    "import torch\n",
    "\n",
    "from utils.tools import csv_to_catalogue\n",
    "\n",
    "if os.path.abspath('..') not in sys.path:\n",
    "    sys.path.insert(0, os.path.abspath('..'))\n",
    "\n",
    "if os.path.abspath('../..') not in sys.path:\n",
    "    sys.path.insert(0, os.path.abspath('../..'))\n",
    "from Evaluate.evaluate import *\n",
    "\n",
    "from utils.processing import crop\n",
    "from utils.heatmap_generator import HeatmapGenerator\n",
    "from NetworkTrainer.network_trainer import *\n",
    "\n",
    "data_path = '/home/minghao/Desktop/Spine_Segmentation'\n",
    "cases = os.listdir(data_path)\n",
    "cases"
   ],
   "metadata": {
    "collapsed": false,
    "pycharm": {
     "name": "#%%\n"
    }
   }
  },
  {
   "cell_type": "code",
   "execution_count": 59,
   "outputs": [
    {
     "data": {
      "text/plain": "['/home/minghao/Desktop/Spine_Segmentation_new_data/Case55',\n '/home/minghao/Desktop/Spine_Segmentation_new_data/Case102',\n '/home/minghao/Desktop/Spine_Segmentation_new_data/Case66',\n '/home/minghao/Desktop/Spine_Segmentation_new_data/Case208',\n '/home/minghao/Desktop/Spine_Segmentation_new_data/Case174',\n '/home/minghao/Desktop/Spine_Segmentation_new_data/Case38',\n '/home/minghao/Desktop/Spine_Segmentation_new_data/Case138',\n '/home/minghao/Desktop/Spine_Segmentation_new_data/Case162',\n '/home/minghao/Desktop/Spine_Segmentation_new_data/Case61',\n '/home/minghao/Desktop/Spine_Segmentation_new_data/Case80',\n '/home/minghao/Desktop/Spine_Segmentation_new_data/Case161',\n '/home/minghao/Desktop/Spine_Segmentation_new_data/Case83',\n '/home/minghao/Desktop/Spine_Segmentation_new_data/Case210',\n '/home/minghao/Desktop/Spine_Segmentation_new_data/Case116',\n '/home/minghao/Desktop/Spine_Segmentation_new_data/Case134',\n '/home/minghao/Desktop/Spine_Segmentation_new_data/Case143',\n '/home/minghao/Desktop/Spine_Segmentation_new_data/Case84',\n '/home/minghao/Desktop/Spine_Segmentation_new_data/Case142',\n '/home/minghao/Desktop/Spine_Segmentation_new_data/Case133',\n '/home/minghao/Desktop/Spine_Segmentation_new_data/Case76',\n '/home/minghao/Desktop/Spine_Segmentation_new_data/Case10',\n '/home/minghao/Desktop/Spine_Segmentation_new_data/Case130',\n '/home/minghao/Desktop/Spine_Segmentation_new_data/Case18',\n '/home/minghao/Desktop/Spine_Segmentation_new_data/Case121',\n '/home/minghao/Desktop/Spine_Segmentation_new_data/Case148',\n '/home/minghao/Desktop/Spine_Segmentation_new_data/Case37',\n '/home/minghao/Desktop/Spine_Segmentation_new_data/Case159',\n '/home/minghao/Desktop/Spine_Segmentation_new_data/Case144',\n '/home/minghao/Desktop/Spine_Segmentation_new_data/Case202',\n '/home/minghao/Desktop/Spine_Segmentation_new_data/Case32',\n '/home/minghao/Desktop/Spine_Segmentation_new_data/Case110',\n '/home/minghao/Desktop/Spine_Segmentation_new_data/Case33',\n '/home/minghao/Desktop/Spine_Segmentation_new_data/Case176',\n '/home/minghao/Desktop/Spine_Segmentation_new_data/Case22',\n '/home/minghao/Desktop/Spine_Segmentation_new_data/Case77',\n '/home/minghao/Desktop/Spine_Segmentation_new_data/Case136',\n '/home/minghao/Desktop/Spine_Segmentation_new_data/Case31',\n '/home/minghao/Desktop/Spine_Segmentation_new_data/Case145',\n '/home/minghao/Desktop/Spine_Segmentation_new_data/Case129',\n '/home/minghao/Desktop/Spine_Segmentation_new_data/Case92',\n '/home/minghao/Desktop/Spine_Segmentation_new_data/Case90',\n '/home/minghao/Desktop/Spine_Segmentation_new_data/Case64',\n '/home/minghao/Desktop/Spine_Segmentation_new_data/Case167',\n '/home/minghao/Desktop/Spine_Segmentation_new_data/Case30',\n '/home/minghao/Desktop/Spine_Segmentation_new_data/Case150',\n '/home/minghao/Desktop/Spine_Segmentation_new_data/Case168',\n '/home/minghao/Desktop/Spine_Segmentation_new_data/Case98',\n '/home/minghao/Desktop/Spine_Segmentation_new_data/Case175',\n '/home/minghao/Desktop/Spine_Segmentation_new_data/Case165',\n '/home/minghao/Desktop/Spine_Segmentation_new_data/Case71',\n '/home/minghao/Desktop/Spine_Segmentation_new_data/Case184',\n '/home/minghao/Desktop/Spine_Segmentation_new_data/Case113',\n '/home/minghao/Desktop/Spine_Segmentation_new_data/Case178',\n '/home/minghao/Desktop/Spine_Segmentation_new_data/Case190',\n '/home/minghao/Desktop/Spine_Segmentation_new_data/Case118',\n '/home/minghao/Desktop/Spine_Segmentation_new_data/Case115',\n '/home/minghao/Desktop/Spine_Segmentation_new_data/Case73',\n '/home/minghao/Desktop/Spine_Segmentation_new_data/Case187',\n '/home/minghao/Desktop/Spine_Segmentation_new_data/Case132',\n '/home/minghao/Desktop/Spine_Segmentation_new_data/Case85',\n '/home/minghao/Desktop/Spine_Segmentation_new_data/Case16',\n '/home/minghao/Desktop/Spine_Segmentation_new_data/Case7',\n '/home/minghao/Desktop/Spine_Segmentation_new_data/Case177',\n '/home/minghao/Desktop/Spine_Segmentation_new_data/Case79',\n '/home/minghao/Desktop/Spine_Segmentation_new_data/Case45',\n '/home/minghao/Desktop/Spine_Segmentation_new_data/Case87',\n '/home/minghao/Desktop/Spine_Segmentation_new_data/Case34',\n '/home/minghao/Desktop/Spine_Segmentation_new_data/Case75',\n '/home/minghao/Desktop/Spine_Segmentation_new_data/Case198',\n '/home/minghao/Desktop/Spine_Segmentation_new_data/Case105',\n '/home/minghao/Desktop/Spine_Segmentation_new_data/Case78',\n '/home/minghao/Desktop/Spine_Segmentation_new_data/Case182',\n '/home/minghao/Desktop/Spine_Segmentation_new_data/Case23',\n '/home/minghao/Desktop/Spine_Segmentation_new_data/Case213',\n '/home/minghao/Desktop/Spine_Segmentation_new_data/Case12',\n '/home/minghao/Desktop/Spine_Segmentation_new_data/Case158',\n '/home/minghao/Desktop/Spine_Segmentation_new_data/Case35',\n '/home/minghao/Desktop/Spine_Segmentation_new_data/Case181',\n '/home/minghao/Desktop/Spine_Segmentation_new_data/Case179',\n '/home/minghao/Desktop/Spine_Segmentation_new_data/Case171',\n '/home/minghao/Desktop/Spine_Segmentation_new_data/Case93',\n '/home/minghao/Desktop/Spine_Segmentation_new_data/Case194',\n '/home/minghao/Desktop/Spine_Segmentation_new_data/Case24',\n '/home/minghao/Desktop/Spine_Segmentation_new_data/Case20',\n '/home/minghao/Desktop/Spine_Segmentation_new_data/Case6',\n '/home/minghao/Desktop/Spine_Segmentation_new_data/Case54',\n '/home/minghao/Desktop/Spine_Segmentation_new_data/Case88',\n '/home/minghao/Desktop/Spine_Segmentation_new_data/Case108',\n '/home/minghao/Desktop/Spine_Segmentation_new_data/Case215',\n '/home/minghao/Desktop/Spine_Segmentation_new_data/Case27',\n '/home/minghao/Desktop/Spine_Segmentation_new_data/Case193',\n '/home/minghao/Desktop/Spine_Segmentation_new_data/Case5',\n '/home/minghao/Desktop/Spine_Segmentation_new_data/Case106',\n '/home/minghao/Desktop/Spine_Segmentation_new_data/Case104',\n '/home/minghao/Desktop/Spine_Segmentation_new_data/Case141',\n '/home/minghao/Desktop/Spine_Segmentation_new_data/Case109',\n '/home/minghao/Desktop/Spine_Segmentation_new_data/Case212',\n '/home/minghao/Desktop/Spine_Segmentation_new_data/Case169',\n '/home/minghao/Desktop/Spine_Segmentation_new_data/Case197',\n '/home/minghao/Desktop/Spine_Segmentation_new_data/Case122',\n '/home/minghao/Desktop/Spine_Segmentation_new_data/Case128',\n '/home/minghao/Desktop/Spine_Segmentation_new_data/Case156',\n '/home/minghao/Desktop/Spine_Segmentation_new_data/Case191',\n '/home/minghao/Desktop/Spine_Segmentation_new_data/Case185',\n '/home/minghao/Desktop/Spine_Segmentation_new_data/Case137',\n '/home/minghao/Desktop/Spine_Segmentation_new_data/Case127',\n '/home/minghao/Desktop/Spine_Segmentation_new_data/Case203',\n '/home/minghao/Desktop/Spine_Segmentation_new_data/Case196',\n '/home/minghao/Desktop/Spine_Segmentation_new_data/Case13',\n '/home/minghao/Desktop/Spine_Segmentation_new_data/Case46',\n '/home/minghao/Desktop/Spine_Segmentation_new_data/Case69',\n '/home/minghao/Desktop/Spine_Segmentation_new_data/Case43',\n '/home/minghao/Desktop/Spine_Segmentation_new_data/Case188',\n '/home/minghao/Desktop/Spine_Segmentation_new_data/Case59',\n '/home/minghao/Desktop/Spine_Segmentation_new_data/Case173',\n '/home/minghao/Desktop/Spine_Segmentation_new_data/Case111',\n '/home/minghao/Desktop/Spine_Segmentation_new_data/Case26',\n '/home/minghao/Desktop/Spine_Segmentation_new_data/Case17',\n '/home/minghao/Desktop/Spine_Segmentation_new_data/Case57',\n '/home/minghao/Desktop/Spine_Segmentation_new_data/Case36',\n '/home/minghao/Desktop/Spine_Segmentation_new_data/Case123',\n '/home/minghao/Desktop/Spine_Segmentation_new_data/Case2',\n '/home/minghao/Desktop/Spine_Segmentation_new_data/Case120',\n '/home/minghao/Desktop/Spine_Segmentation_new_data/Case199',\n '/home/minghao/Desktop/Spine_Segmentation_new_data/Case180',\n '/home/minghao/Desktop/Spine_Segmentation_new_data/Case62',\n '/home/minghao/Desktop/Spine_Segmentation_new_data/Case172',\n '/home/minghao/Desktop/Spine_Segmentation_new_data/Case166',\n '/home/minghao/Desktop/Spine_Segmentation_new_data/Case103',\n '/home/minghao/Desktop/Spine_Segmentation_new_data/Case68',\n '/home/minghao/Desktop/Spine_Segmentation_new_data/Case53',\n '/home/minghao/Desktop/Spine_Segmentation_new_data/Case81',\n '/home/minghao/Desktop/Spine_Segmentation_new_data/Case72',\n '/home/minghao/Desktop/Spine_Segmentation_new_data/Case112',\n '/home/minghao/Desktop/Spine_Segmentation_new_data/Case149',\n '/home/minghao/Desktop/Spine_Segmentation_new_data/Case100',\n '/home/minghao/Desktop/Spine_Segmentation_new_data/Case160',\n '/home/minghao/Desktop/Spine_Segmentation_new_data/Case140',\n '/home/minghao/Desktop/Spine_Segmentation_new_data/Case101',\n '/home/minghao/Desktop/Spine_Segmentation_new_data/Case19',\n '/home/minghao/Desktop/Spine_Segmentation_new_data/Case170',\n '/home/minghao/Desktop/Spine_Segmentation_new_data/Case146',\n '/home/minghao/Desktop/Spine_Segmentation_new_data/Case29',\n '/home/minghao/Desktop/Spine_Segmentation_new_data/Case41',\n '/home/minghao/Desktop/Spine_Segmentation_new_data/Case155',\n '/home/minghao/Desktop/Spine_Segmentation_new_data/Case40',\n '/home/minghao/Desktop/Spine_Segmentation_new_data/Case25',\n '/home/minghao/Desktop/Spine_Segmentation_new_data/Case214',\n '/home/minghao/Desktop/Spine_Segmentation_new_data/Case48',\n '/home/minghao/Desktop/Spine_Segmentation_new_data/Case107',\n '/home/minghao/Desktop/Spine_Segmentation_new_data/Case163',\n '/home/minghao/Desktop/Spine_Segmentation_new_data/Case89',\n '/home/minghao/Desktop/Spine_Segmentation_new_data/Case56',\n '/home/minghao/Desktop/Spine_Segmentation_new_data/Case58',\n '/home/minghao/Desktop/Spine_Segmentation_new_data/Case52',\n '/home/minghao/Desktop/Spine_Segmentation_new_data/Case205',\n '/home/minghao/Desktop/Spine_Segmentation_new_data/Case153',\n '/home/minghao/Desktop/Spine_Segmentation_new_data/Case91',\n '/home/minghao/Desktop/Spine_Segmentation_new_data/Case67',\n '/home/minghao/Desktop/Spine_Segmentation_new_data/Case97',\n '/home/minghao/Desktop/Spine_Segmentation_new_data/Case9',\n '/home/minghao/Desktop/Spine_Segmentation_new_data/Case186',\n '/home/minghao/Desktop/Spine_Segmentation_new_data/Case152',\n '/home/minghao/Desktop/Spine_Segmentation_new_data/Case39',\n '/home/minghao/Desktop/Spine_Segmentation_new_data/Case204',\n '/home/minghao/Desktop/Spine_Segmentation_new_data/Case8',\n '/home/minghao/Desktop/Spine_Segmentation_new_data/Case139',\n '/home/minghao/Desktop/Spine_Segmentation_new_data/Case14',\n '/home/minghao/Desktop/Spine_Segmentation_new_data/Case200',\n '/home/minghao/Desktop/Spine_Segmentation_new_data/Case164',\n '/home/minghao/Desktop/Spine_Segmentation_new_data/Case154',\n '/home/minghao/Desktop/Spine_Segmentation_new_data/Case82']"
     },
     "execution_count": 59,
     "metadata": {},
     "output_type": "execute_result"
    }
   ],
   "source": [
    "list_case_dirs = [os.path.join(data_path, cases[i]) for i in range(len(cases))]\n",
    "list_case_dirs"
   ],
   "metadata": {
    "collapsed": false,
    "pycharm": {
     "name": "#%%\n"
    }
   }
  },
  {
   "cell_type": "code",
   "execution_count": 60,
   "outputs": [
    {
     "data": {
      "text/plain": "['Case85_19', 'Case81_9']"
     },
     "execution_count": 60,
     "metadata": {},
     "output_type": "execute_result"
    }
   ],
   "source": [
    "impurity = []\n",
    "for case_dir in list_case_dirs:\n",
    "    Mask = sitk.ReadImage(case_dir + '/Mask_512.nii.gz' , sitk.sitkInt32)\n",
    "    Mask = sitk.GetArrayFromImage(Mask)\n",
    "\n",
    "    for lable in range(1,20):\n",
    "        check = np.where(Mask == lable)\n",
    "        if len(check[0]) in range(1,5):\n",
    "            impurity.append(case_dir.split('/')[-1] + '_' + str(lable))\n",
    "impurity"
   ],
   "metadata": {
    "collapsed": false,
    "pycharm": {
     "name": "#%%\n"
    }
   }
  }
 ],
 "metadata": {
  "kernelspec": {
   "display_name": "Python 3",
   "language": "python",
   "name": "python3"
  },
  "language_info": {
   "codemirror_mode": {
    "name": "ipython",
    "version": 2
   },
   "file_extension": ".py",
   "mimetype": "text/x-python",
   "name": "python",
   "nbconvert_exporter": "python",
   "pygments_lexer": "ipython2",
   "version": "2.7.6"
  }
 },
 "nbformat": 4,
 "nbformat_minor": 0
}