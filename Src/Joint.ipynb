{
 "cells": [
  {
   "cell_type": "code",
   "execution_count": 53,
   "metadata": {
    "collapsed": true
   },
   "outputs": [
    {
     "data": {
      "text/plain": "0     Case144\n1     Case199\n2      Case16\n3      Case81\n4     Case116\n5     Case178\n6     Case134\n7     Case133\n8     Case154\n9     Case215\n10      Case6\n11    Case177\n12    Case198\n13     Case79\n14    Case188\n15     Case48\n16    Case110\n17    Case212\n18    Case145\n19    Case130\n20     Case78\n21    Case158\nName: test, dtype: object"
     },
     "execution_count": 53,
     "metadata": {},
     "output_type": "execute_result"
    }
   ],
   "source": [
    "import os\n",
    "import SimpleITK as sitk\n",
    "import numpy as np\n",
    "import pandas as pd\n",
    "import matplotlib.pyplot as plt\n",
    "import argparse\n",
    "from NetworkTrainer.network_trainer import *\n",
    "import torch\n",
    "from Evaluate.evaluate import *\n",
    "#from SVVNet.IVDSegmentation.test import copy_sitk_imageinfo\n",
    "from utils.processing import resize_sitk_image\n",
    "from utils.tools import csv_to_catalogue\n",
    "\n",
    "#csv_path = '../../Catalogue' + '/' + str(args.catalogue) + '.csv'\n",
    "csv_path = 'Catalogue' + '/' + '0.csv'\n",
    "catalogue = csv_to_catalogue(csv_path)\n",
    "cases = catalogue['test'].dropna()\n",
    "list_case_dirs = dict()\n",
    "\n",
    "cases"
   ]
  },
  {
   "cell_type": "code",
   "execution_count": 54,
   "outputs": [],
   "source": [
    "data_path = '/home/minghao/Desktop/Spine_Segmentation'\n",
    "save_path = '/home/minghao/Desktop/Output/Joint'\n",
    "\n",
    "if not os.path.exists(save_path):\n",
    "    os.mkdir(save_path)"
   ],
   "metadata": {
    "collapsed": false,
    "pycharm": {
     "name": "#%%\n"
    }
   }
  },
  {
   "cell_type": "code",
   "execution_count": 55,
   "outputs": [],
   "source": [
    "Coccyx_path = '/home/minghao/Desktop/Output/Coccyx_Segmentation/Prediction'\n",
    "list_case_dirs['Coccyx'] = [os.path.join(Coccyx_path, cases[i]) for i in range(len(cases))]"
   ],
   "metadata": {
    "collapsed": false,
    "pycharm": {
     "name": "#%%\n"
    }
   }
  },
  {
   "cell_type": "code",
   "execution_count": 56,
   "outputs": [
    {
     "data": {
      "text/plain": "['/home/minghao/Desktop/Output/Coccyx_Segmentation/Prediction/Case144',\n '/home/minghao/Desktop/Output/Coccyx_Segmentation/Prediction/Case199',\n '/home/minghao/Desktop/Output/Coccyx_Segmentation/Prediction/Case16',\n '/home/minghao/Desktop/Output/Coccyx_Segmentation/Prediction/Case81',\n '/home/minghao/Desktop/Output/Coccyx_Segmentation/Prediction/Case116',\n '/home/minghao/Desktop/Output/Coccyx_Segmentation/Prediction/Case178',\n '/home/minghao/Desktop/Output/Coccyx_Segmentation/Prediction/Case134',\n '/home/minghao/Desktop/Output/Coccyx_Segmentation/Prediction/Case133',\n '/home/minghao/Desktop/Output/Coccyx_Segmentation/Prediction/Case154',\n '/home/minghao/Desktop/Output/Coccyx_Segmentation/Prediction/Case215',\n '/home/minghao/Desktop/Output/Coccyx_Segmentation/Prediction/Case6',\n '/home/minghao/Desktop/Output/Coccyx_Segmentation/Prediction/Case177',\n '/home/minghao/Desktop/Output/Coccyx_Segmentation/Prediction/Case198',\n '/home/minghao/Desktop/Output/Coccyx_Segmentation/Prediction/Case79',\n '/home/minghao/Desktop/Output/Coccyx_Segmentation/Prediction/Case188',\n '/home/minghao/Desktop/Output/Coccyx_Segmentation/Prediction/Case48',\n '/home/minghao/Desktop/Output/Coccyx_Segmentation/Prediction/Case110',\n '/home/minghao/Desktop/Output/Coccyx_Segmentation/Prediction/Case212',\n '/home/minghao/Desktop/Output/Coccyx_Segmentation/Prediction/Case145',\n '/home/minghao/Desktop/Output/Coccyx_Segmentation/Prediction/Case130',\n '/home/minghao/Desktop/Output/Coccyx_Segmentation/Prediction/Case78',\n '/home/minghao/Desktop/Output/Coccyx_Segmentation/Prediction/Case158']"
     },
     "execution_count": 56,
     "metadata": {},
     "output_type": "execute_result"
    }
   ],
   "source": [
    "list_case_dirs['Coccyx']"
   ],
   "metadata": {
    "collapsed": false,
    "pycharm": {
     "name": "#%%\n"
    }
   }
  },
  {
   "cell_type": "code",
   "execution_count": 57,
   "outputs": [],
   "source": [
    "IVD_path = '/home/minghao/Desktop/Output/IVD_Segmentation/Prediction'\n",
    "list_case_dirs['IVD'] = [os.path.join(IVD_path, cases[i]) for i in range(len(cases))]"
   ],
   "metadata": {
    "collapsed": false,
    "pycharm": {
     "name": "#%%\n"
    }
   }
  },
  {
   "cell_type": "code",
   "execution_count": 58,
   "outputs": [
    {
     "data": {
      "text/plain": "['/home/minghao/Desktop/Output/IVD_Segmentation/Prediction/Case144',\n '/home/minghao/Desktop/Output/IVD_Segmentation/Prediction/Case199',\n '/home/minghao/Desktop/Output/IVD_Segmentation/Prediction/Case16',\n '/home/minghao/Desktop/Output/IVD_Segmentation/Prediction/Case81',\n '/home/minghao/Desktop/Output/IVD_Segmentation/Prediction/Case116',\n '/home/minghao/Desktop/Output/IVD_Segmentation/Prediction/Case178',\n '/home/minghao/Desktop/Output/IVD_Segmentation/Prediction/Case134',\n '/home/minghao/Desktop/Output/IVD_Segmentation/Prediction/Case133',\n '/home/minghao/Desktop/Output/IVD_Segmentation/Prediction/Case154',\n '/home/minghao/Desktop/Output/IVD_Segmentation/Prediction/Case215',\n '/home/minghao/Desktop/Output/IVD_Segmentation/Prediction/Case6',\n '/home/minghao/Desktop/Output/IVD_Segmentation/Prediction/Case177',\n '/home/minghao/Desktop/Output/IVD_Segmentation/Prediction/Case198',\n '/home/minghao/Desktop/Output/IVD_Segmentation/Prediction/Case79',\n '/home/minghao/Desktop/Output/IVD_Segmentation/Prediction/Case188',\n '/home/minghao/Desktop/Output/IVD_Segmentation/Prediction/Case48',\n '/home/minghao/Desktop/Output/IVD_Segmentation/Prediction/Case110',\n '/home/minghao/Desktop/Output/IVD_Segmentation/Prediction/Case212',\n '/home/minghao/Desktop/Output/IVD_Segmentation/Prediction/Case145',\n '/home/minghao/Desktop/Output/IVD_Segmentation/Prediction/Case130',\n '/home/minghao/Desktop/Output/IVD_Segmentation/Prediction/Case78',\n '/home/minghao/Desktop/Output/IVD_Segmentation/Prediction/Case158']"
     },
     "execution_count": 58,
     "metadata": {},
     "output_type": "execute_result"
    }
   ],
   "source": [
    "list_case_dirs['IVD']"
   ],
   "metadata": {
    "collapsed": false,
    "pycharm": {
     "name": "#%%\n"
    }
   }
  },
  {
   "cell_type": "code",
   "execution_count": 59,
   "outputs": [],
   "source": [
    "Vertebrae_path = '/home/minghao/Desktop/Output/Vertebrae_Segmentation/Prediction'\n",
    "list_case_dirs['Vertebrae'] = [os.path.join(Vertebrae_path, cases[i]) for i in range(len(cases))]"
   ],
   "metadata": {
    "collapsed": false,
    "pycharm": {
     "name": "#%%\n"
    }
   }
  },
  {
   "cell_type": "code",
   "execution_count": 59,
   "outputs": [],
   "source": [],
   "metadata": {
    "collapsed": false,
    "pycharm": {
     "name": "#%%\n"
    }
   }
  },
  {
   "cell_type": "code",
   "execution_count": 60,
   "outputs": [],
   "source": [
    "def copy_sitk_imageinfo(image1, image2):\n",
    "    image2.SetSpacing(image1.GetSpacing())\n",
    "    image2.SetDirection(image1.GetDirection())\n",
    "    image2.SetOrigin(image1.GetOrigin())\n",
    "\n",
    "    return image2\n",
    "\n",
    "def landmark_extractor(landmarks):\n",
    "    \"\"\"\n",
    "    return a list of the landmarks\n",
    "    :param landmarks: pandas.Dataframe\n",
    "    \"\"\"\n",
    "    labels = landmarks.columns[1:].tolist()  # exclude the 'axis' column\n",
    "    list_landmarks = []\n",
    "    for label in labels:\n",
    "        list_landmarks.append(np.array(landmarks[label]))\n",
    "\n",
    "    return list_landmarks"
   ],
   "metadata": {
    "collapsed": false,
    "pycharm": {
     "name": "#%%\n"
    }
   }
  },
  {
   "cell_type": "code",
   "execution_count": 61,
   "outputs": [
    {
     "name": "stdout",
     "output_type": "stream",
     "text": [
      "Done\n"
     ]
    }
   ],
   "source": [
    "dict_images = dict()\n",
    "files_name = ['Coccyx', 'IVD','Vertebrae']\n",
    "joint = []\n",
    "S = (12,512,512)\n",
    "\n",
    "for num in  range(len(cases)):\n",
    "    Joint_nii = np.zeros(S)\n",
    "\n",
    "    pre_Coccyx = sitk.ReadImage(list_case_dirs[files_name[0]][num] + '/' + 'pred_' + files_name[0] + 'Mask.nii.gz', sitk.sitkFloat32)\n",
    "    pre_Coccyx = sitk.GetArrayFromImage(pre_Coccyx)\n",
    "\n",
    "    Joint_nii = pre_Coccyx\n",
    "\n",
    "    pre_IVD = sitk.ReadImage(list_case_dirs[files_name[1]][num] + '/' + 'pred_' + files_name[1] + 'Mask.nii.gz', sitk.sitkFloat32)\n",
    "    pre_IVD = sitk.GetArrayFromImage(pre_IVD)\n",
    "\n",
    "    pre_Vertebrae = sitk.ReadImage(list_case_dirs[files_name[2]][num] + '/' + 'pred_' + files_name[2] + 'Mask.nii.gz', sitk.sitkFloat32)\n",
    "    pre_Vertebrae = sitk.GetArrayFromImage(pre_Vertebrae)\n",
    "\n",
    "    landmark = pd.read_csv(data_path + '/'+ cases[num] + '/landmarks_512.csv')\n",
    "    landmarks = landmark_extractor(landmark)\n",
    "\n",
    "    '''for index in range(1,18):\n",
    "        if np.isnan(landmarks[index][0]):\n",
    "            pass\n",
    "        else:\n",
    "            if index in range(1,9):\n",
    "                temp = np.where(pre_Vertebrae == index + 1, index + 1, 0)\n",
    "            if index in range(10,18):\n",
    "                temp = np.where(pre_IVD == index + 1, index + 1, 0)\n",
    "\n",
    "\n",
    "            Joint_nii += temp\n",
    "            #Joint_nii = np.where(Joint_nii > index + 1, index + 1, Joint_nii)'''\n",
    "\n",
    "    Joint_nii = pre_Coccyx + pre_IVD + pre_Vertebrae\n",
    "    template_nii = sitk.ReadImage(data_path + '/' + cases[num] + '/MR_512.nii.gz')\n",
    "    Joint_nii = sitk.GetImageFromArray(Joint_nii)\n",
    "    Joint_nii = copy_sitk_imageinfo(template_nii, Joint_nii)\n",
    "    if not os.path.exists(save_path + '/' + cases[num]):\n",
    "            os.mkdir(save_path + '/' + cases[num])\n",
    "    sitk.WriteImage(Joint_nii, save_path + '/' + cases[num] + '/pred_JointMask.nii.gz')\n",
    "print('Done')"
   ],
   "metadata": {
    "collapsed": false,
    "pycharm": {
     "name": "#%%\n"
    }
   }
  },
  {
   "cell_type": "code",
   "execution_count": 62,
   "outputs": [],
   "source": [
    "Joint_path = '/home/minghao/Desktop/Output/Joint'\n",
    "\n",
    "list_case_dirs['Joint'] = [os.path.join(Joint_path, cases[i]) for i in range(len(cases))]\n",
    "dscs = []\n",
    "for case_dir in range(len(list_case_dirs['Joint'])):\n",
    "\n",
    "    gt_mask = sitk.ReadImage(data_path + '/' + cases[case_dir] + '/raw_Mask.nii.gz')\n",
    "    gt = sitk.GetArrayFromImage(gt_mask)\n",
    "    D, H, W = gt.shape\n",
    "\n",
    "    pred_mask = sitk.ReadImage(list_case_dirs['Joint'][case_dir] + '/' + 'pred_JointMask.nii.gz')\n",
    "    pred = resize_sitk_image(pred_mask, dsize=(W, H, None), interpolator='nearest')\n",
    "    pred = sitk.GetArrayFromImage(pred)\n",
    "\n",
    "    dsc = cal_subject_level_dice(pred, gt, num_classes=20)\n",
    "    dscs.append(dsc)"
   ],
   "metadata": {
    "collapsed": false,
    "pycharm": {
     "name": "#%%\n"
    }
   }
  },
  {
   "cell_type": "code",
   "execution_count": 63,
   "outputs": [
    {
     "data": {
      "text/plain": "0.8984552"
     },
     "execution_count": 63,
     "metadata": {},
     "output_type": "execute_result"
    }
   ],
   "source": [
    "np.mean(dscs)"
   ],
   "metadata": {
    "collapsed": false,
    "pycharm": {
     "name": "#%%\n"
    }
   }
  },
  {
   "cell_type": "code",
   "execution_count": 63,
   "outputs": [],
   "source": [],
   "metadata": {
    "collapsed": false,
    "pycharm": {
     "name": "#%%\n"
    }
   }
  }
 ],
 "metadata": {
  "kernelspec": {
   "display_name": "Python 3",
   "language": "python",
   "name": "python3"
  },
  "language_info": {
   "codemirror_mode": {
    "name": "ipython",
    "version": 2
   },
   "file_extension": ".py",
   "mimetype": "text/x-python",
   "name": "python",
   "nbconvert_exporter": "python",
   "pygments_lexer": "ipython2",
   "version": "2.7.6"
  }
 },
 "nbformat": 4,
 "nbformat_minor": 0
}